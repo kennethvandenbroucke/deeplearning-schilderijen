{
  "cells": [
    {
      "cell_type": "code",
      "execution_count": null,
      "metadata": {
        "id": "tIw_mCKiNgGA"
      },
      "outputs": [],
      "source": [
        "import os\n",
        "import numpy as np\n",
        "from sklearn.model_selection import train_test_split\n",
        "from PIL import Image\n",
        "import random\n",
        "# de nodige functies importeren\n",
        "\n",
        "def make_dataset(destination, paintings_location,img_size, test_size, val_size, aantal_picasso = 0, aantal_rubens = 0, aantal_rembrandt = 0, aantal_mondriaan = 0):\n",
        "  aantal_images = {\"Picasso\": aantal_picasso, \"Rubens\": aantal_rubens, 'Rembrandt': aantal_rembrandt, \"Mondriaan\": aantal_mondriaan}\n",
        "  # de gevraagde hoeveelheden van images opslaan in een dict zodat ik ze in een for loop kan gebruiken\n",
        "\n",
        "  os.mkdir(f'{destination}')\n",
        "  # de map met de geselecteerde images aanmaken\n",
        "  painters = [x for x in aantal_images if aantal_images[x] != 0]\n",
        "  # de schilders opslaan van wie we images willen\n",
        "  subsets = ['train', 'test', 'val']\n",
        "  # de verschillende subsets aanmaken om die in een for loop te gebruiken\n",
        "\n",
        "  for subset in subsets:\n",
        "    os.mkdir(f'{destination}/{subset}')\n",
        "    for painter in painters:\n",
        "      os.mkdir(f'{destination}/{subset}/{painter}')\n",
        "\n",
        "  # de juiste bestandsstructuur aanmaken binnen de destination map\n",
        "\n",
        "  for painter in painters:\n",
        "    images = os.listdir(f'{paintings_location}/{painter}')\n",
        "    painter_images = random.sample(images,aantal_images[painter])\n",
        "\n",
        "    # een random sample van x aantal images selecteren\n",
        "\n",
        "    for image in painter_images:\n",
        "        with Image.open(f'{paintings_location}/{painter}/{image}') as img:\n",
        "          image = img.resize(img_size)\n",
        "      \n",
        "      # de images moeten herschaalt worden naar de gewenste size\n",
        "    \n",
        "    painter_X_train, painter_X_test = train_test_split(painter_images, test_size=test_size)\n",
        "    painter_X_train, painter_X_val = train_test_split(painter_X_train, test_size=val_size/(1-test_size))\n",
        "    # de images opsplitsen in train, test en validatiesets, voor de validatiesets te verkrijgen splits ik de trainset nog eens op\n",
        "    # daarom moet ik een kleine berekening doen zodat de val_size parameter gemakkelijk te gebruiken is\n",
        "\n",
        "    datasets = {\"train\":painter_X_train,\"test\": painter_X_test,\"val\": painter_X_val}\n",
        "\n",
        "    for subset in subsets:\n",
        "      images = datasets[subset]\n",
        "      # de images opvragen van een bepaalde subset\n",
        "      for image in images:\n",
        "        with Image.open(f'{paintings_location}/{painter}/{image}') as img:\n",
        "          img.convert(\"RGB\").save(f'{destination}/{subset}/{painter}/{image}', \"JPEG\")\n",
        "    # al de images opslaan, hiervoor wordt ook convert(\"RGB\") gebruikt omdat de images dan altijd als JPEGs kunnen worden opgeslagen\n",
        "\n",
        "\n",
        "make_dataset(img_size=[256, 256],\n",
        "           test_size=0.2,\n",
        "           val_size=0.2,\n",
        "           aantal_picasso= 600,\n",
        "           aantal_rubens= 400,\n",
        "           aantal_rembrandt= 200,\n",
        "           aantal_mondriaan = 300,\n",
        "           destination = '/content/drive/MyDrive/deeplearning/schilderijen/selected_images',\n",
        "           paintings_location = '/content/drive/MyDrive/deeplearning/schilderijen')\n",
        "\n",
        "# de gemaakte functie aanroepen"
      ]
    }
  ],
  "metadata": {
    "colab": {
      "collapsed_sections": [],
      "name": "dataset_aanmaken.ipynb",
      "provenance": []
    },
    "kernelspec": {
      "display_name": "Python 3",
      "name": "python3"
    },
    "language_info": {
      "name": "python"
    }
  },
  "nbformat": 4,
  "nbformat_minor": 0
}
