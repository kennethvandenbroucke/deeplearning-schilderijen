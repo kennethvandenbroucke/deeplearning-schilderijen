{
  "cells": [
    {
      "cell_type": "code",
      "execution_count": 2,
      "metadata": {
        "id": "fm6_2Ua3kXZQ"
      },
      "outputs": [],
      "source": [
        "from tensorflow import keras\n",
        "from tensorflow.keras import layers\n",
        "from tensorflow.keras.preprocessing import image_dataset_from_directory"
      ]
    },
    {
      "cell_type": "markdown",
      "metadata": {},
      "source": [
        "een ingebouwde functie binnen keras.preprocessing die een BatchDataSet object aanmaakt met de opgegeven parameters"
      ]
    },
    {
      "cell_type": "code",
      "execution_count": null,
      "metadata": {
        "colab": {
          "base_uri": "https://localhost:8080/"
        },
        "id": "slWXs6TqksvR",
        "outputId": "e45d12ef-f9a1-4101-ae89-a83721537450"
      },
      "outputs": [],
      "source": [
        "train_dataset = image_dataset_from_directory(\"/content/drive/MyDrive/deeplearning/schilderijen/selected_images/train\",\n",
        "                                             image_size=(256,256),\n",
        "                                             labels = 'inferred',\n",
        "                                             batch_size = 8,\n",
        "                                             label_mode = 'categorical')\n",
        "validation_dataset = image_dataset_from_directory(\"/content/drive/MyDrive/deeplearning/schilderijen/selected_images/val\",\n",
        "                                                  image_size=(256,256),\n",
        "                                                  labels = 'inferred',\n",
        "                                                  batch_size = 8,\n",
        "                                                  label_mode = 'categorical')\n",
        "test_dataset = image_dataset_from_directory(\"/content/drive/MyDrive/deeplearning/schilderijen/selected_images/test\",\n",
        "                                            image_size=(256,256),\n",
        "                                            labels = 'inferred',\n",
        "                                            batch_size = 8,\n",
        "                                            label_mode = 'categorical')\n"
      ]
    },
    {
      "cell_type": "markdown",
      "metadata": {},
      "source": [
        "de convolutional base van VGG16 in een variabele steken"
      ]
    },
    {
      "cell_type": "code",
      "execution_count": 15,
      "metadata": {
        "id": "yCnpy1vHkvvt"
      },
      "outputs": [],
      "source": [
        "conv_base = keras.applications.VGG16(\n",
        " weights=\"imagenet\",\n",
        " include_top=False)\n",
        "conv_base.trainable = False"
      ]
    },
    {
      "cell_type": "markdown",
      "metadata": {},
      "source": [
        "het model aanmaken met data augmentation, softmax, categorical_crossentropy en RMSprop\n",
        "eerst wordt de shape van de inputs meegegeven, daarna word de data augmentatie toegepast omdat we met een kleine dataset werken\n",
        "daarna worden de inputs doorgegeven aan de ingebouwde prepocessing van Xception waardoor we betere resultaten zullen krijgen\n",
        "nadat de images geprocessed zijn geven we ze door aan de conv_base\n",
        "daarna passen we er een softmax activatie op toe zodat we een vector krijgen van de kansen dat een image bij een bepaalde klasse hoort"
      ]
    },
    {
      "cell_type": "code",
      "execution_count": 19,
      "metadata": {
        "id": "2q-IIDPJkxMn"
      },
      "outputs": [],
      "source": [
        "data_augmentation = keras.Sequential(\n",
        " [\n",
        "layers.experimental.preprocessing.RandomFlip(\"horizontal\"),\n",
        "layers.experimental.preprocessing.RandomRotation(0.1),\n",
        "layers.experimental.preprocessing.RandomZoom(0.2),\n",
        " ]\n",
        ")\n",
        "inputs = keras.Input(shape=(256, 256, 3))\n",
        "x = data_augmentation(inputs)\n",
        "x = keras.applications.vgg16.preprocess_input(x)\n",
        "x = conv_base(x)\n",
        "x = layers.Flatten()(x)\n",
        "x = layers.Dense(256)(x)\n",
        "x = layers.Dropout(0.5)(x)\n",
        "outputs = layers.Dense(4, activation=\"softmax\")(x)\n",
        "model = keras.Model(inputs, outputs)\n",
        "model.compile(loss=\"categorical_crossentropy\",\n",
        "optimizer=\"RMSprop\",\n",
        "metrics=[\"categorical_accuracy\"])\n"
      ]
    },
    {
      "cell_type": "markdown",
      "metadata": {},
      "source": [
        "het model trainen"
      ]
    },
    {
      "cell_type": "code",
      "execution_count": null,
      "metadata": {
        "colab": {
          "base_uri": "https://localhost:8080/"
        },
        "id": "oDFOq40Sky2K",
        "outputId": "f3730235-0421-4200-8275-c6fa66193185"
      },
      "outputs": [],
      "source": [
        "callbacks = [\n",
        " keras.callbacks.ModelCheckpoint(\n",
        "filepath=\"VGG16.h5\",\n",
        "save_best_only=True,\n",
        "monitor=\"val_loss\")\n",
        "]\n",
        "history = model.fit(\n",
        " train_dataset,\n",
        " epochs=50,\n",
        " validation_data=validation_dataset,\n",
        " callbacks=callbacks)"
      ]
    },
    {
      "cell_type": "markdown",
      "metadata": {},
      "source": [
        "een plot maken van de accuracy en loss van de training- en validatiesets"
      ]
    },
    {
      "cell_type": "code",
      "execution_count": null,
      "metadata": {
        "colab": {
          "base_uri": "https://localhost:8080/",
          "height": 545
        },
        "id": "AIA0XrlVk2oq",
        "outputId": "71da6dbd-6632-4657-e97d-3ba0334e91c1"
      },
      "outputs": [],
      "source": [
        "import matplotlib.pyplot as plt\n",
        "accuracy = history.history[\"categorical_accuracy\"]\n",
        "val_accuracy = history.history[\"val_categorical_accuracy\"]\n",
        "loss = history.history[\"loss\"]\n",
        "val_loss = history.history[\"val_loss\"]\n",
        "epochs = range(1, len(accuracy) + 1)\n",
        "plt.plot(epochs, accuracy, \"r\", label=\"Training accuracy\")\n",
        "plt.plot(epochs, val_accuracy, \"b\", label=\"Validation accuracy\")\n",
        "plt.title(\"Training and validation accuracy\")\n",
        "plt.legend()\n",
        "plt.figure()\n",
        "plt.plot(epochs, loss, \"r\", label=\"Training loss\")\n",
        "plt.plot(epochs, val_loss, \"b\", label=\"Validation loss\")\n",
        "plt.title(\"Training and validation loss\")\n",
        "plt.legend()\n",
        "plt.show()"
      ]
    },
    {
      "cell_type": "markdown",
      "metadata": {},
      "source": [
        "het model testen op de testdataset"
      ]
    },
    {
      "cell_type": "code",
      "execution_count": null,
      "metadata": {
        "colab": {
          "base_uri": "https://localhost:8080/"
        },
        "id": "59PD0rOUk4Ey",
        "outputId": "fe92478b-c598-4005-9e3d-dbc3145560c3"
      },
      "outputs": [],
      "source": [
        "test_model = keras.models.load_model(\n",
        " \"VGG16.h5\")\n",
        "test_loss, test_acc = test_model.evaluate(test_dataset)\n",
        "print(f\"Test accuracy: {test_acc:.3f}\")\n",
        "# het model testen"
      ]
    }
  ],
  "metadata": {
    "accelerator": "GPU",
    "colab": {
      "collapsed_sections": [],
      "name": "4schilders transfer learning.ipynb",
      "provenance": []
    },
    "kernelspec": {
      "display_name": "Python 3",
      "name": "python3"
    },
    "language_info": {
      "name": "python"
    }
  },
  "nbformat": 4,
  "nbformat_minor": 0
}
