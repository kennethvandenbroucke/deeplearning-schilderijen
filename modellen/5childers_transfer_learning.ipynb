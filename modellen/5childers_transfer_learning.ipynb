{
  "nbformat": 4,
  "nbformat_minor": 0,
  "metadata": {
    "colab": {
      "name": "4schilders transfer learning.ipynb",
      "provenance": [],
      "collapsed_sections": []
    },
    "kernelspec": {
      "name": "python3",
      "display_name": "Python 3"
    },
    "language_info": {
      "name": "python"
    },
    "accelerator": "GPU"
  },
  "cells": [
    {
      "cell_type": "code",
      "metadata": {
        "id": "fm6_2Ua3kXZQ"
      },
      "source": [
        "from tensorflow import keras\n",
        "from tensorflow.keras import layers\n",
        "from tensorflow.keras.preprocessing import image_dataset_from_directory\n",
        "import matplotlib.pyplot as plt\n",
        "from tensorflow.keras.utils import to_categorical"
      ],
      "execution_count": 1,
      "outputs": []
    },
    {
      "cell_type": "code",
      "metadata": {
        "colab": {
          "base_uri": "https://localhost:8080/"
        },
        "id": "slWXs6TqksvR",
        "outputId": "8deb53aa-a5bb-4766-8508-c0959928b702"
      },
      "source": [
        "class_names = ['Mondriaan','Picasso','Rembrandt','Rubens', 'VanGogh']\n",
        "train_dataset = image_dataset_from_directory(\"/content/drive/MyDrive/deeplearning/schilderijen/selected_images/train\",\n",
        "                                             image_size=(256,256),\n",
        "                                             labels = 'inferred',\n",
        "                                             batch_size = 32,\n",
        "                                             class_names= class_names,\n",
        "                                             label_mode = 'categorical')\n",
        "validation_dataset = image_dataset_from_directory(\"/content/drive/MyDrive/deeplearning/schilderijen/selected_images/val\",\n",
        "                                                  image_size=(256,256),\n",
        "                                                  labels = 'inferred',\n",
        "                                                  batch_size = 32,\n",
        "                                                  class_names = class_names,\n",
        "                                                  label_mode = 'categorical')\n",
        "test_dataset = image_dataset_from_directory(\"/content/drive/MyDrive/deeplearning/schilderijen/selected_images/test\",\n",
        "                                            image_size=(256,256),\n",
        "                                            labels = 'inferred',\n",
        "                                            class_names = class_names,\n",
        "                                            batch_size = 32,\n",
        "                                            label_mode = 'categorical')"
      ],
      "execution_count": 7,
      "outputs": [
        {
          "output_type": "stream",
          "name": "stdout",
          "text": [
            "Found 1110 files belonging to 5 classes.\n",
            "Found 370 files belonging to 5 classes.\n",
            "Found 370 files belonging to 5 classes.\n"
          ]
        }
      ]
    },
    {
      "cell_type": "code",
      "metadata": {
        "id": "yCnpy1vHkvvt"
      },
      "source": [
        "conv_base = keras.applications.VGG16(\n",
        " weights=\"imagenet\",\n",
        " include_top=False)\n",
        "conv_base.trainable = False"
      ],
      "execution_count": 8,
      "outputs": []
    },
    {
      "cell_type": "code",
      "metadata": {
        "id": "2q-IIDPJkxMn"
      },
      "source": [
        "data_augmentation = keras.Sequential(\n",
        " [\n",
        "layers.experimental.preprocessing.RandomFlip(\"horizontal\"),\n",
        "layers.experimental.preprocessing.RandomRotation(0.1),\n",
        "layers.experimental.preprocessing.RandomZoom(0.2),\n",
        " ]\n",
        ")\n",
        "inputs = keras.Input(shape=(256, 256, 3))\n",
        "x = data_augmentation(inputs)\n",
        "x = keras.applications.vgg16.preprocess_input(x)\n",
        "x = conv_base(x)\n",
        "x = layers.Flatten()(x)\n",
        "x = layers.Dense(256)(x)\n",
        "x = layers.Dropout(0.5)(x)\n",
        "outputs = layers.Dense(len(class_names), activation=\"softmax\")(x)\n",
        "model = keras.Model(inputs, outputs)\n",
        "model.compile(loss=\"categorical_crossentropy\",\n",
        "optimizer=\"RMSprop\",\n",
        "metrics=[\"categorical_accuracy\"])"
      ],
      "execution_count": 9,
      "outputs": []
    },
    {
      "cell_type": "code",
      "metadata": {
        "colab": {
          "base_uri": "https://localhost:8080/"
        },
        "id": "oDFOq40Sky2K",
        "outputId": "6808e81e-3d52-4166-ab14-e69ece6f32f1"
      },
      "source": [
        "callbacks = [\n",
        " keras.callbacks.ModelCheckpoint(\n",
        "filepath=\"VGG16_5schilders.h5\",\n",
        "save_best_only=True,\n",
        "monitor=\"val_loss\")\n",
        "]\n",
        "history = model.fit(\n",
        " train_dataset,\n",
        " epochs=10,\n",
        " validation_data=validation_dataset,\n",
        " callbacks=callbacks)"
      ],
      "execution_count": 10,
      "outputs": [
        {
          "output_type": "stream",
          "name": "stdout",
          "text": [
            "Epoch 1/10\n",
            "35/35 [==============================] - 373s 9s/step - loss: 106.9827 - categorical_accuracy: 0.6369 - val_loss: 75.2876 - val_categorical_accuracy: 0.7162\n",
            "Epoch 2/10\n",
            "35/35 [==============================] - 18s 485ms/step - loss: 32.6159 - categorical_accuracy: 0.8018 - val_loss: 53.6794 - val_categorical_accuracy: 0.7703\n",
            "Epoch 3/10\n",
            "35/35 [==============================] - 18s 489ms/step - loss: 26.9774 - categorical_accuracy: 0.8523 - val_loss: 35.4038 - val_categorical_accuracy: 0.8649\n",
            "Epoch 4/10\n",
            "35/35 [==============================] - 18s 482ms/step - loss: 21.8287 - categorical_accuracy: 0.8739 - val_loss: 46.2788 - val_categorical_accuracy: 0.8378\n",
            "Epoch 5/10\n",
            "35/35 [==============================] - 18s 494ms/step - loss: 17.3820 - categorical_accuracy: 0.8838 - val_loss: 31.0200 - val_categorical_accuracy: 0.8865\n",
            "Epoch 6/10\n",
            "35/35 [==============================] - 18s 480ms/step - loss: 14.6400 - categorical_accuracy: 0.9090 - val_loss: 44.7340 - val_categorical_accuracy: 0.8595\n",
            "Epoch 7/10\n",
            "35/35 [==============================] - 18s 481ms/step - loss: 19.0589 - categorical_accuracy: 0.8928 - val_loss: 32.3799 - val_categorical_accuracy: 0.8946\n",
            "Epoch 8/10\n",
            "35/35 [==============================] - 18s 479ms/step - loss: 13.9611 - categorical_accuracy: 0.9171 - val_loss: 37.4726 - val_categorical_accuracy: 0.8703\n",
            "Epoch 9/10\n",
            "35/35 [==============================] - 18s 481ms/step - loss: 9.1529 - categorical_accuracy: 0.9423 - val_loss: 43.8522 - val_categorical_accuracy: 0.8676\n",
            "Epoch 10/10\n",
            "35/35 [==============================] - 22s 551ms/step - loss: 7.8981 - categorical_accuracy: 0.9306 - val_loss: 38.0094 - val_categorical_accuracy: 0.8811\n"
          ]
        }
      ]
    },
    {
      "cell_type": "code",
      "metadata": {
        "id": "AIA0XrlVk2oq",
        "colab": {
          "base_uri": "https://localhost:8080/",
          "height": 545
        },
        "outputId": "885db374-ff57-4a7f-b257-189e5f0eedaa"
      },
      "source": [
        "import matplotlib.pyplot as plt\n",
        "accuracy = history.history[\"categorical_accuracy\"]\n",
        "val_accuracy = history.history[\"val_categorical_accuracy\"]\n",
        "loss = history.history[\"loss\"]\n",
        "val_loss = history.history[\"val_loss\"]\n",
        "epochs = range(1, len(accuracy) + 1)\n",
        "plt.plot(epochs, accuracy, \"r\", label=\"Training accuracy\")\n",
        "plt.plot(epochs, val_accuracy, \"b\", label=\"Validation accuracy\")\n",
        "plt.title(\"Training and validation accuracy\")\n",
        "plt.legend()\n",
        "plt.figure()\n",
        "plt.plot(epochs, loss, \"r\", label=\"Training loss\")\n",
        "plt.plot(epochs, val_loss, \"b\", label=\"Validation loss\")\n",
        "plt.title(\"Training and validation loss\")\n",
        "plt.legend()\n",
        "plt.show()"
      ],
      "execution_count": 11,
      "outputs": [
        {
          "output_type": "display_data",
          "data": {
            "image/png": "[encoded data removed]",
            "text/plain": [
              "<Figure size 432x288 with 1 Axes>"
            ]
          },
          "metadata": {
            "needs_background": "light"
          }
        },
        {
          "output_type": "display_data",
          "data": {
            "image/png": "[encoded data removed]",
            "text/plain": [
              "<Figure size 432x288 with 1 Axes>"
            ]
          },
          "metadata": {
            "needs_background": "light"
          }
        }
      ]
    },
    {
      "cell_type": "code",
      "metadata": {
        "id": "59PD0rOUk4Ey",
        "colab": {
          "base_uri": "https://localhost:8080/"
        },
        "outputId": "0f63f36f-1761-4737-88e1-c4657c6cbbef"
      },
      "source": [
        "test_model = keras.models.load_model(\n",
        " \"VGG16_5schilders.h5\")\n",
        "test_loss, test_acc = test_model.evaluate(test_dataset)\n",
        "print(f\"Test accuracy: {test_acc:.3f}\")"
      ],
      "execution_count": 12,
      "outputs": [
        {
          "output_type": "stream",
          "name": "stdout",
          "text": [
            "12/12 [==============================] - 129s 3s/step - loss: 28.5704 - categorical_accuracy: 0.8703\n",
            "Test accuracy: 0.870\n"
          ]
        }
      ]
    }
  ]
}